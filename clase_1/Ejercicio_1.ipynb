{
 "cells": [
  {
   "cell_type": "code",
   "execution_count": null,
   "metadata": {
    "id": "i3GdiE7hYyO9",
    "vscode": {
     "languageId": "r"
    }
   },
   "outputs": [],
   "source": [
    "# @title 0) Libraries\n",
    "\n",
    "install.packages(\"dplyr\")\n",
    "install.packages(\"tidyverse\")\n",
    "\n",
    "library(dplyr)\n",
    "library(tidyverse)\n"
   ]
  },
  {
   "cell_type": "code",
   "execution_count": null,
   "metadata": {
    "cellView": "form",
    "id": "lUkKzFPZaHrM",
    "vscode": {
     "languageId": "r"
    }
   },
   "outputs": [],
   "source": [
    "# @title 1) Data Frame Initilization\n",
    "\n",
    "url <- \"https://raw.githubusercontent.com/mwaskom/seaborn-data/master/iris.csv\"\n",
    "iris_df <- read_csv(url, show_col_types = FALSE)\n"
   ]
  },
  {
   "cell_type": "code",
   "execution_count": null,
   "metadata": {
    "cellView": "form",
    "id": "5ZumY9KUXipj",
    "vscode": {
     "languageId": "r"
    }
   },
   "outputs": [],
   "source": [
    "# @title 2) Select\n",
    "\n",
    "iris_df <- iris_df %>% select(sepal_length, sepal_width, species)\n"
   ]
  },
  {
   "cell_type": "code",
   "execution_count": null,
   "metadata": {
    "cellView": "form",
    "id": "5XBMUaCbaFMP",
    "vscode": {
     "languageId": "r"
    }
   },
   "outputs": [],
   "source": [
    "# @title 3) Filter\n",
    "\n",
    "iris_df <- iris_df %>% filter(sepal_length > 5)\n"
   ]
  },
  {
   "cell_type": "code",
   "execution_count": null,
   "metadata": {
    "cellView": "form",
    "id": "_Ewu86bM9m4B",
    "vscode": {
     "languageId": "r"
    }
   },
   "outputs": [],
   "source": [
    "# @title 4) New Column\n",
    "\n",
    "iris_df <- iris_df %>% mutate(sepal_ratio = sepal_length/sepal_width)\n"
   ]
  },
  {
   "cell_type": "code",
   "execution_count": null,
   "metadata": {
    "cellView": "form",
    "id": "eDSVvBU0-SoN",
    "vscode": {
     "languageId": "r"
    }
   },
   "outputs": [],
   "source": [
    "# @title 5) Show results\n",
    "iris_df\n"
   ]
  }
 ],
 "metadata": {
  "colab": {
   "authorship_tag": "ABX9TyO/tZiiym1jSqFr4cgyGQlf",
   "private_outputs": true,
   "provenance": []
  },
  "kernelspec": {
   "display_name": "R",
   "language": "R",
   "name": "ir"
  },
  "language_info": {
   "codemirror_mode": "r",
   "file_extension": ".r",
   "mimetype": "text/x-r-source",
   "name": "R",
   "pygments_lexer": "r",
   "version": "4.4.0"
  }
 },
 "nbformat": 4,
 "nbformat_minor": 0
}
