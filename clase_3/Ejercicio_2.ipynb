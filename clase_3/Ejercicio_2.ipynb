{
 "cells": [
  {
   "cell_type": "code",
   "execution_count": null,
   "metadata": {
    "colab": {
     "base_uri": "https://localhost:8080/"
    },
    "id": "KnxO-LhR9WFg",
    "outputId": "90948e18-1e6c-4d3f-fbc0-a3fa3407443d",
    "vscode": {
     "languageId": "r"
    }
   },
   "outputs": [],
   "source": [
    "# @title Package Installation\n",
    "\n",
    "library(modules)\n",
    "library(tidyverse)\n",
    "library(lubridate)\n",
    "library(caret)\n",
    "library(ggplot2)\n",
    "\n",
    "shared <- modules::use(\"../shared\")\n"
   ]
  },
  {
   "cell_type": "code",
   "execution_count": null,
   "metadata": {
    "id": "KMBG6xDW9d8j",
    "vscode": {
     "languageId": "r"
    }
   },
   "outputs": [],
   "source": [
    "# @title Dataset reading\n",
    "\n",
    "data <- read.csv(\"../sources/housing.csv\")\n",
    "head(data)\n",
    "summary(data)\n"
   ]
  },
  {
   "cell_type": "code",
   "execution_count": null,
   "metadata": {
    "id": "2vmAwTLW9vwB",
    "vscode": {
     "languageId": "r"
    }
   },
   "outputs": [],
   "source": [
    "# @title Plot dataset\n",
    "\n",
    "ggplot(data, aes(x = area, y = price)) +\n",
    "  geom_line(color = \"blue\")\n"
   ]
  },
  {
   "cell_type": "code",
   "execution_count": null,
   "metadata": {
    "vscode": {
     "languageId": "r"
    }
   },
   "outputs": [],
   "source": [
    "# @title Convert fields\n",
    "\n",
    "price_min <- min(data$price)\n",
    "price_max <- max(data$price)\n",
    "\n",
    "area_min <- min(data$area)\n",
    "area_max <- max(data$area)\n",
    "\n",
    "bedrooms_min <- min(data$bedrooms)\n",
    "bedrooms_max <- max(data$bedrooms)\n",
    "\n",
    "bathrooms_min <- min(data$bathrooms)\n",
    "bathrooms_max <- max(data$bathrooms)\n",
    "\n",
    "stories_min <- min(data$stories)\n",
    "stories_max <- max(data$stories)\n",
    "\n",
    "parking_min <- min(data$parking)\n",
    "parking_max <- max(data$parking)\n",
    "\n",
    "data <- data %>% mutate(\n",
    "    price = (price - price_min) / (price_max - price_min),\n",
    "    area = (area - area_min) / (area_max - area_min),\n",
    "    bedrooms = (bedrooms - bedrooms_min) / (bedrooms_max - bedrooms_min),\n",
    "    bathrooms = (bathrooms - bathrooms_min) / (bathrooms_max - bathrooms_min),\n",
    "    stories = (stories - stories_min) / (stories_max - stories_min),\n",
    "    mainroad = as.factor(mainroad),\n",
    "    guestroom = as.factor(guestroom),\n",
    "    basement = as.factor(basement),\n",
    "    hotwaterheating = as.factor(hotwaterheating),\n",
    "    airconditioning = as.factor(airconditioning),\n",
    "    parking = (parking - parking_min) / (parking_max - parking_min),\n",
    "    prefarea = as.factor(prefarea),\n",
    "    furnishingstatus = as.factor(furnishingstatus)\n",
    ")\n",
    "\n",
    "dummies <- dummyVars(\n",
    "    ~ mainroad +\n",
    "        guestroom +\n",
    "        basement +\n",
    "        hotwaterheating +\n",
    "        airconditioning +\n",
    "        prefarea +\n",
    "        furnishingstatus,\n",
    "    data = data\n",
    ")\n",
    "data_transformed <- predict(dummies, newdata = data)\n",
    "data <- cbind(data, data_transformed)\n",
    "\n",
    "data <- data %>% mutate(\n",
    "    mainroad = NULL,\n",
    "    guestroom = NULL,\n",
    "    basement = NULL,\n",
    "    hotwaterheating = NULL,\n",
    "    airconditioning = NULL,\n",
    "    prefarea = NULL,\n",
    "    furnishingstatus = NULL\n",
    ")\n",
    "\n",
    "head(data)\n",
    "summary(data)\n"
   ]
  },
  {
   "cell_type": "code",
   "execution_count": null,
   "metadata": {
    "id": "pkrHC8zq9mim",
    "vscode": {
     "languageId": "r"
    }
   },
   "outputs": [],
   "source": [
    "# @title Split data in train and test sets\n",
    "\n",
    "set.seed(0)\n",
    "\n",
    "# 80% of the original data is used for training, the rest is used for testing\n",
    "train_indices <- sample(seq_len(nrow(data)), 0.8 * nrow(data))\n",
    "train_data <- data[train_indices, ]\n",
    "test_data <- data[-train_indices, ]\n"
   ]
  },
  {
   "cell_type": "code",
   "execution_count": null,
   "metadata": {
    "id": "qAAyfub8TBr5",
    "vscode": {
     "languageId": "r"
    }
   },
   "outputs": [],
   "source": [
    "lin_reg_01 <- train(\n",
    "    price ~ area,\n",
    "    data = train_data,\n",
    "    method = \"lm\",\n",
    "    metric = \"RMSE\",\n",
    "    na.action = na.pass\n",
    ")\n",
    "print(summary(lin_reg_01))\n",
    "price_pred_01 <- predict(lin_reg_01, test_data)\n"
   ]
  },
  {
   "cell_type": "code",
   "execution_count": null,
   "metadata": {
    "id": "Uxwt-4Fe97Ek",
    "vscode": {
     "languageId": "r"
    }
   },
   "outputs": [],
   "source": [
    "lin_reg_02 <- train(\n",
    "    price ~ .,\n",
    "    data = train_data,\n",
    "    method = \"lm\",\n",
    "    metric = \"RMSE\",\n",
    "    na.action = na.pass\n",
    ")\n",
    "print(summary(lin_reg_02))\n",
    "price_pred_02 <- predict(lin_reg_02, test_data)\n"
   ]
  },
  {
   "cell_type": "code",
   "execution_count": null,
   "metadata": {
    "id": "TsJoYpU4T6Ho",
    "vscode": {
     "languageId": "r"
    }
   },
   "outputs": [],
   "source": [
    "knn_reg <- train(\n",
    "    price ~ .,\n",
    "    data = train_data,\n",
    "    method = \"knn\",\n",
    "    metric = \"RMSE\",\n",
    "    na.action = na.pass\n",
    ")\n",
    "print(summary(knn_reg))\n",
    "price_pred_03 <- predict(knn_reg, test_data)\n"
   ]
  },
  {
   "cell_type": "code",
   "execution_count": null,
   "metadata": {
    "id": "wyG8O2tEUier",
    "vscode": {
     "languageId": "r"
    }
   },
   "outputs": [],
   "source": [
    "tree_reg <- train(\n",
    "    price ~ .,\n",
    "    data = train_data,\n",
    "    method = \"rpart\",\n",
    "    metric = \"RMSE\",\n",
    "    na.action = na.pass\n",
    ")\n",
    "\n",
    "price_pred_04 <- predict(tree_reg, test_data)\n"
   ]
  },
  {
   "cell_type": "code",
   "execution_count": null,
   "metadata": {
    "id": "rxU7vE9p9-3V",
    "vscode": {
     "languageId": "r"
    }
   },
   "outputs": [],
   "source": [
    "ggplot() +\n",
    "  geom_point(data = test_data, aes(x = area, y = price), color = \"blue\") +\n",
    "  geom_line(data = test_data, aes(x = area, y = predict(lin_reg_01, test_data)), color = \"red\") +\n",
    "  geom_line(data = test_data, aes(x = area, y = predict(lin_reg_02, test_data)), color = \"green\") +\n",
    "  labs(title = \"Regresión Lineal\", x = \"area\", y = \"price\") +\n",
    "  theme_minimal()\n"
   ]
  },
  {
   "cell_type": "code",
   "execution_count": null,
   "metadata": {
    "id": "MpGJ0vPv-Afi",
    "vscode": {
     "languageId": "r"
    }
   },
   "outputs": [],
   "source": [
    "ggplot() +\n",
    "  geom_point(data = train_data, aes(x = area, y = price), color = \"blue\") +\n",
    "  geom_point(data = test_data, aes(x = area, y = price), color = \"blue\") +\n",
    "  geom_line(data = train_data, aes(x = area, y = predict(lin_reg_01, train_data)), color = \"red\") +\n",
    "  geom_line(data = test_data, aes(x = area, y = predict(lin_reg_01, test_data)), color = \"red\") +\n",
    "  labs(title = \"Simple Linear Regression (Train + Test)\", x = \"area\", y = \"price\") +\n",
    "  theme_minimal()\n",
    "\n",
    "ggplot() +\n",
    "  geom_point(data = train_data, aes(x = area, y = price), color = \"blue\") +\n",
    "  geom_point(data = test_data, aes(x = area, y = price), color = \"blue\") +\n",
    "  geom_line(data = train_data, aes(x = area, y = predict(lin_reg_02, train_data)), color = \"green\") +\n",
    "  geom_line(data = test_data, aes(x = area, y = predict(lin_reg_02, test_data)), color = \"green\") +\n",
    "  labs(title = \"Simple Linear Regression (Train + Test)\", x = \"area\", y = \"price\") +\n",
    "  theme_minimal()\n",
    "\n",
    "ggplot() +\n",
    "  geom_point(data = train_data, aes(x = area, y = price), color = \"blue\") +\n",
    "  geom_point(data = test_data, aes(x = area, y = price), color = \"blue\") +\n",
    "  geom_line(data = train_data, aes(x = area, y = predict(knn_reg, train_data)), color = \"orange\") +\n",
    "  geom_line(data = test_data, aes(x = area, y = predict(knn_reg, test_data)), color = \"orange\") +\n",
    "  labs(title = \"KNN (Train + Test)\", x = \"area\", y = \"price\") +\n",
    "  theme_minimal()\n",
    "\n",
    "ggplot() +\n",
    "  geom_point(data = train_data, aes(x = area, y = price), color = \"blue\") +\n",
    "  geom_point(data = test_data, aes(x = area, y = price), color = \"blue\") +\n",
    "  geom_line(data = train_data, aes(x = area, y = predict(tree_reg, train_data)), color = \"black\") +\n",
    "  geom_line(data = test_data, aes(x = area, y = predict(tree_reg, test_data)), color = \"black\") +\n",
    "  labs(title = \"Tree (Train + Test)\", x = \"area\", y = \"price\") +\n",
    "  theme_minimal()\n"
   ]
  },
  {
   "cell_type": "code",
   "execution_count": null,
   "metadata": {
    "id": "jAiWv91QSgiR",
    "vscode": {
     "languageId": "r"
    }
   },
   "outputs": [],
   "source": [
    "rbind(\n",
    "  shared$measures$accuracy(\"Simple Linear Regression\", price_pred_01, test_data$price),\n",
    "  shared$measures$accuracy(\"Mulitple Linear Regression\", price_pred_02, test_data$price),\n",
    "  shared$measures$accuracy(\"KNN\", price_pred_03, test_data$price),\n",
    "  shared$measures$accuracy(\"Tree\", price_pred_04, test_data$price)\n",
    ") %>% arrange(as.double(rmse))\n"
   ]
  }
 ],
 "metadata": {
  "colab": {
   "provenance": []
  },
  "kernelspec": {
   "display_name": "R",
   "language": "R",
   "name": "ir"
  },
  "language_info": {
   "codemirror_mode": "r",
   "file_extension": ".r",
   "mimetype": "text/x-r-source",
   "name": "R",
   "pygments_lexer": "r",
   "version": "4.4.0"
  }
 },
 "nbformat": 4,
 "nbformat_minor": 0
}
