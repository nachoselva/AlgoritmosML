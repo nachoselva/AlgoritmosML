{
 "cells": [
  {
   "cell_type": "code",
   "execution_count": null,
   "metadata": {
    "colab": {
     "base_uri": "https://localhost:8080/"
    },
    "id": "KnxO-LhR9WFg",
    "outputId": "90948e18-1e6c-4d3f-fbc0-a3fa3407443d",
    "vscode": {
     "languageId": "r"
    }
   },
   "outputs": [],
   "source": [
    "# @title Package Installation\n",
    "\n",
    "library(modules)\n",
    "library(tidyverse)\n",
    "library(lubridate)\n",
    "library(caret)\n",
    "library(ggplot2)\n",
    "\n",
    "shared <- modules::use(\"../shared\")\n"
   ]
  },
  {
   "cell_type": "code",
   "execution_count": null,
   "metadata": {
    "id": "KMBG6xDW9d8j",
    "vscode": {
     "languageId": "r"
    }
   },
   "outputs": [],
   "source": [
    "# @title Dataset reading\n",
    "\n",
    "data <- read.csv(\"../sources/sales.csv\")\n",
    "head(data)\n",
    "summary(data)\n"
   ]
  },
  {
   "cell_type": "code",
   "execution_count": null,
   "metadata": {
    "id": "E4M6qvfw9hl-",
    "vscode": {
     "languageId": "r"
    }
   },
   "outputs": [],
   "source": [
    "# @title Convert date field\n",
    "\n",
    "data$Date <- as.Date(data$Date, format = \"%Y-%m-%d\")\n",
    "head(data)\n",
    "summary(data)\n"
   ]
  },
  {
   "cell_type": "code",
   "execution_count": null,
   "metadata": {
    "id": "FT5xjYZP9lWc",
    "vscode": {
     "languageId": "r"
    }
   },
   "outputs": [],
   "source": [
    "# @title Filter Data By Store and Product\n",
    "\n",
    "data <- data %>%\n",
    "    filter(store == 0, product == 1) %>%\n",
    "    select(-c(store, product))\n",
    "head(data)\n",
    "summary(data)\n",
    "print(nrow(data))\n"
   ]
  },
  {
   "cell_type": "code",
   "execution_count": null,
   "metadata": {
    "id": "2vmAwTLW9vwB",
    "vscode": {
     "languageId": "r"
    }
   },
   "outputs": [],
   "source": [
    "# @title Plot dataset\n",
    "\n",
    "ggplot(data, aes(x = Date, y = number_sold)) +\n",
    "  geom_line(color = \"blue\")\n"
   ]
  },
  {
   "cell_type": "code",
   "execution_count": null,
   "metadata": {
    "id": "ChGrwfJa9w5g",
    "vscode": {
     "languageId": "r"
    }
   },
   "outputs": [],
   "source": [
    "# @title Break down Date field\n",
    "\n",
    "data <- data %>%\n",
    "  mutate(\n",
    "    Year = year(Date),\n",
    "    Month = as.factor(month(Date)),\n",
    "    DayOfWeek = as.factor(wday(Date)),\n",
    "    DayOfMonth = as.factor(day(Date))\n",
    "  )\n",
    "\n",
    "dummies <- dummyVars(~ Month + DayOfWeek + DayOfMonth, data = data)\n",
    "data_transformed <- predict(dummies, newdata = data)\n",
    "data <- cbind(data, data_transformed)\n",
    "\n",
    "data <- data %>%\n",
    "  mutate(\n",
    "    Month = NULL,\n",
    "    DayOfWeek = NULL,\n",
    "    DayOfMonth = NULL\n",
    "  )\n",
    "\n",
    "head(data)\n"
   ]
  },
  {
   "cell_type": "code",
   "execution_count": null,
   "metadata": {
    "id": "L8l64Ixt90BR",
    "vscode": {
     "languageId": "r"
    }
   },
   "outputs": [],
   "source": [
    "# @title Add lag columns\n",
    "\n",
    "data <- data %>%\n",
    "  mutate(\n",
    "    Lag1 = lag(number_sold, 1),\n",
    "    Lag2 = lag(number_sold, 2)\n",
    "  )\n",
    "\n",
    "data <- data %>% filter(!is.na(Lag1) & !is.na(Lag2))\n",
    "\n",
    "head(data)\n"
   ]
  },
  {
   "cell_type": "code",
   "execution_count": null,
   "metadata": {
    "id": "E06cwSyn94d7",
    "vscode": {
     "languageId": "r"
    }
   },
   "outputs": [],
   "source": [
    "# @title Scale and normalize columns\n",
    "\n",
    "number_sold_min <- min(data$number_sold)\n",
    "number_sold_max <- max(data$number_sold)\n",
    "\n",
    "year_min <- min(data$Year)\n",
    "year_max <- max(data$Year)\n",
    "\n",
    "date_min <- min(data$Date)\n",
    "date_max <- max(data$Date)\n",
    "\n",
    "data <- data %>% mutate(\n",
    "    number_sold = (number_sold - number_sold_min) / (number_sold_max - number_sold_min),\n",
    "    Lag1 = (Lag1 - number_sold_min) / (number_sold_max - number_sold_min),\n",
    "    Lag2 = (Lag2 - number_sold_min) / (number_sold_max - number_sold_min),\n",
    "    SYear = (Year - year_min) / (year_max - year_min),\n",
    "    SDate = as.numeric(difftime(Date, date_min), units = \"days\")\n",
    "    / as.numeric(difftime(date_max, date_min), units = \"days\"),\n",
    ")\n",
    "\n",
    "head(data)\n"
   ]
  },
  {
   "cell_type": "code",
   "execution_count": null,
   "metadata": {
    "id": "pkrHC8zq9mim",
    "vscode": {
     "languageId": "r"
    }
   },
   "outputs": [],
   "source": [
    "# @title Split data in train and test sets\n",
    "\n",
    "set.seed(0)\n",
    "\n",
    "# 80% of the original data is used for training, the rest is used for testing\n",
    "train_indices <- sample(seq_len(nrow(data)), 0.8 * nrow(data))\n",
    "train_data <- data[train_indices, ]\n",
    "test_data <- data[-train_indices, ]\n"
   ]
  },
  {
   "cell_type": "code",
   "execution_count": null,
   "metadata": {
    "id": "qAAyfub8TBr5",
    "vscode": {
     "languageId": "r"
    }
   },
   "outputs": [],
   "source": [
    "lin_reg_01 <- train(\n",
    "    number_sold ~ Date,\n",
    "    data = train_data,\n",
    "    method = \"lm\",\n",
    "    metric = \"RMSE\",\n",
    "    na.action = na.pass\n",
    ")\n",
    "print(summary(lin_reg_01))\n",
    "number_sold_pred_01 <- predict(lin_reg_01, test_data)\n"
   ]
  },
  {
   "cell_type": "code",
   "execution_count": null,
   "metadata": {
    "id": "Uxwt-4Fe97Ek",
    "vscode": {
     "languageId": "r"
    }
   },
   "outputs": [],
   "source": [
    "lin_reg_02 <- train(\n",
    "    number_sold ~ .,\n",
    "    data = select(train_data, -c(Date, Year)),\n",
    "    method = \"lm\",\n",
    "    metric = \"RMSE\",\n",
    "    na.action = na.pass\n",
    ")\n",
    "print(summary(lin_reg_02))\n",
    "number_sold_pred_02 <- predict(lin_reg_02, test_data)\n"
   ]
  },
  {
   "cell_type": "code",
   "execution_count": null,
   "metadata": {
    "id": "TsJoYpU4T6Ho",
    "vscode": {
     "languageId": "r"
    }
   },
   "outputs": [],
   "source": [
    "knn_reg <- train(\n",
    "    number_sold ~ .,\n",
    "    data = select(train_data, -c(Date, Year)),\n",
    "    method = \"knn\",\n",
    "    metric = \"RMSE\",\n",
    "    na.action = na.pass\n",
    ")\n",
    "print(summary(knn_reg))\n",
    "number_sold_pred_03 <- predict(knn_reg, test_data)\n"
   ]
  },
  {
   "cell_type": "code",
   "execution_count": null,
   "metadata": {
    "id": "wyG8O2tEUier",
    "vscode": {
     "languageId": "r"
    }
   },
   "outputs": [],
   "source": [
    "tree_reg <- train(\n",
    "    number_sold ~ .,\n",
    "    data = select(train_data, -c(Date, Year)),\n",
    "    method = \"rpart\",\n",
    "    metric = \"RMSE\",\n",
    "    na.action = na.pass\n",
    ")\n",
    "\n",
    "number_sold_pred_04 <- predict(tree_reg, test_data)\n"
   ]
  },
  {
   "cell_type": "code",
   "execution_count": null,
   "metadata": {
    "id": "rxU7vE9p9-3V",
    "vscode": {
     "languageId": "r"
    }
   },
   "outputs": [],
   "source": [
    "ggplot() +\n",
    "  geom_point(data = test_data, aes(x = Date, y = number_sold), color = \"blue\") +\n",
    "  geom_line(data = test_data, aes(x = Date, y = predict(lin_reg_01, test_data)), color = \"red\") +\n",
    "  geom_line(data = test_data, aes(x = Date, y = predict(lin_reg_02, test_data)), color = \"green\") +\n",
    "  labs(title = \"Regresión Lineal\", x = \"Date\", y = \"number_sold\") +\n",
    "  theme_minimal()\n"
   ]
  },
  {
   "cell_type": "code",
   "execution_count": null,
   "metadata": {
    "id": "MpGJ0vPv-Afi",
    "vscode": {
     "languageId": "r"
    }
   },
   "outputs": [],
   "source": [
    "ggplot() +\n",
    "  geom_point(data = train_data, aes(x = Date, y = number_sold), color = \"blue\") +\n",
    "  geom_point(data = test_data, aes(x = Date, y = number_sold), color = \"blue\") +\n",
    "  geom_line(data = train_data, aes(x = Date, y = predict(lin_reg_01, train_data)), color = \"red\") +\n",
    "  geom_line(data = test_data, aes(x = Date, y = predict(lin_reg_01, test_data)), color = \"red\") +\n",
    "  labs(title = \"Simple Linear Regression (Train + Test)\", x = \"Date\", y = \"number_sold\") +\n",
    "  theme_minimal()\n",
    "\n",
    "ggplot() +\n",
    "  geom_point(data = train_data, aes(x = Date, y = number_sold), color = \"blue\") +\n",
    "  geom_point(data = test_data, aes(x = Date, y = number_sold), color = \"blue\") +\n",
    "  geom_line(data = train_data, aes(x = Date, y = predict(lin_reg_02, train_data)), color = \"green\") +\n",
    "  geom_line(data = test_data, aes(x = Date, y = predict(lin_reg_02, test_data)), color = \"green\") +\n",
    "  labs(title = \"Multiple Linear Regression (Train + Test)\", x = \"Date\", y = \"number_sold\") +\n",
    "  theme_minimal()\n",
    "\n",
    "ggplot() +\n",
    "  geom_point(data = train_data, aes(x = Date, y = number_sold), color = \"blue\") +\n",
    "  geom_point(data = test_data, aes(x = Date, y = number_sold), color = \"blue\") +\n",
    "  geom_line(data = train_data, aes(x = Date, y = predict(knn_reg, train_data)), color = \"orange\") +\n",
    "  geom_line(data = test_data, aes(x = Date, y = predict(knn_reg, test_data)), color = \"orange\") +\n",
    "  labs(title = \"KNN (Train + Test)\", x = \"Date\", y = \"number_sold\") +\n",
    "  theme_minimal()\n",
    "\n",
    "ggplot() +\n",
    "  geom_point(data = train_data, aes(x = Date, y = number_sold), color = \"blue\") +\n",
    "  geom_point(data = test_data, aes(x = Date, y = number_sold), color = \"blue\") +\n",
    "  geom_line(data = train_data, aes(x = Date, y = predict(tree_reg, train_data)), color = \"black\") +\n",
    "  geom_line(data = test_data, aes(x = Date, y = predict(tree_reg, test_data)), color = \"black\") +\n",
    "  labs(title = \"Tree (Train + Test)\", x = \"Date\", y = \"number_sold\") +\n",
    "  theme_minimal()\n"
   ]
  },
  {
   "cell_type": "code",
   "execution_count": null,
   "metadata": {
    "id": "jAiWv91QSgiR",
    "vscode": {
     "languageId": "r"
    }
   },
   "outputs": [],
   "source": [
    "rbind(\n",
    "  shared$measures$accuracy(\"Simple Linear Regression\", number_sold_pred_01, test_data$number_sold),\n",
    "  shared$measures$accuracy(\"Multiple Linear Regression\", number_sold_pred_02, test_data$number_sold),\n",
    "  shared$measures$accuracy(\"KNN\", number_sold_pred_03, test_data$number_sold),\n",
    "  shared$measures$accuracy(\"Tree\", number_sold_pred_04, test_data$number_sold)\n",
    ") %>% arrange(as.double(rmse))\n"
   ]
  }
 ],
 "metadata": {
  "colab": {
   "provenance": []
  },
  "kernelspec": {
   "display_name": "R",
   "language": "R",
   "name": "ir"
  },
  "language_info": {
   "codemirror_mode": "r",
   "file_extension": ".r",
   "mimetype": "text/x-r-source",
   "name": "R",
   "pygments_lexer": "r",
   "version": "4.4.0"
  }
 },
 "nbformat": 4,
 "nbformat_minor": 0
}
