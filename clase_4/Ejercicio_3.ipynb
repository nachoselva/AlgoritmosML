{
 "cells": [
  {
   "cell_type": "code",
   "execution_count": null,
   "id": "0",
   "metadata": {
    "vscode": {
     "languageId": "r"
    }
   },
   "outputs": [],
   "source": [
    "library(modules)\n",
    "library(tidyverse)\n",
    "library(lubridate)\n",
    "library(caret)\n",
    "library(ggplot2)\n",
    "library(dplyr)\n",
    "library(readxl)\n"
   ]
  },
  {
   "cell_type": "code",
   "execution_count": null,
   "id": "1",
   "metadata": {
    "colab": {
     "base_uri": "https://localhost:8080/",
     "height": 286
    },
    "id": "codigo1",
    "outputId": "38a1bbaa-c8a3-4b30-e6f8-f4e2c26d5f64",
    "vscode": {
     "languageId": "r"
    }
   },
   "outputs": [],
   "source": [
    "convert_mes <- function(mes) {\n",
    "    return(switch(mes,\n",
    "        \"Enero\" = 1,\n",
    "        \"Febrero\" = 2,\n",
    "        \"Marzo\" = 3,\n",
    "        \"Abril\" = 4,\n",
    "        \"Mayo\" = 5,\n",
    "        \"Junio\" = 6,\n",
    "        \"Julio\" = 7,\n",
    "        \"Agosto\" = 8,\n",
    "        \"Septiembre\" = 9,\n",
    "        \"Octubre\" = 10,\n",
    "        \"Noviembre\" = 11,\n",
    "        \"Diciembre\" = 12\n",
    "    ))\n",
    "}\n",
    "\n",
    "dataframe_ventas <- read_excel(\"../sources/act_dataset_ventas.xlsx\", sheet = 1, col_names = FALSE)[, -1] %>%\n",
    "    t() %>%\n",
    "    as.data.frame()\n",
    "\n",
    "colnames(dataframe_ventas) <- c(\"mes\", \"producto\", \"cantidad_ventas\")\n",
    "rownames(dataframe_ventas) <- NULL\n",
    "\n",
    "dataframe_ventas <- dataframe_ventas %>%\n",
    "    mutate(\n",
    "        mes = as.integer(lapply(dataframe_ventas$mes, convert_mes)),\n",
    "        producto = as.factor(producto),\n",
    "        cantidad_ventas = as.double(cantidad_ventas)\n",
    "    ) %>%\n",
    "    complete(mes, producto, fill = list(cantidad_ventas = 0)) %>%\n",
    "    mutate(\n",
    "        trimestre = as.integer(trunc((mes - 1) / 3) + 1)\n",
    "    )\n",
    "\n",
    "head(dataframe_ventas)\n",
    "\n",
    "\n",
    "dataframe_precios <- read_excel(\"../sources/act_dataset_ventas.xlsx\", sheet = 2, col_names = FALSE)[, -1] %>%\n",
    "    t() %>%\n",
    "    as.data.frame()\n",
    "\n",
    "colnames(dataframe_precios) <- c(\"producto\", \"costo\", \"precio_venta\")\n",
    "rownames(dataframe_precios) <- NULL\n",
    "\n",
    "dataframe_precios <- dataframe_precios %>%\n",
    "    mutate(\n",
    "        producto = as.factor(producto),\n",
    "        costo = as.double(costo),\n",
    "        precio_venta = as.double(precio_venta),\n",
    "        beneficio_unitario = precio_venta - costo\n",
    "    )\n",
    "\n",
    "head(dataframe_precios)\n",
    "\n",
    "dataframe_output <- merge(dataframe_ventas, dataframe_precios, \"producto\") %>%\n",
    "    arrange(mes, producto) %>%\n",
    "    mutate(\n",
    "        beneficio = beneficio_unitario * cantidad_ventas\n",
    "    )\n",
    "\n",
    "head(dataframe_output, n = 10000)\n",
    "\n",
    "dataframe_output_trimestral <- dataframe_output %>%\n",
    "    group_by(producto, trimestre) %>%\n",
    "    summarise(beneficio = sum(beneficio))\n",
    "\n",
    "head(dataframe_output_trimestral, n = 10000)\n"
   ]
  }
 ],
 "metadata": {
  "colab": {
   "provenance": []
  },
  "kernelspec": {
   "display_name": "R",
   "language": "R",
   "name": "ir"
  },
  "language_info": {
   "codemirror_mode": "r",
   "file_extension": ".r",
   "mimetype": "text/x-r-source",
   "name": "R",
   "pygments_lexer": "r",
   "version": "4.4.0"
  }
 },
 "nbformat": 4,
 "nbformat_minor": 5
}
