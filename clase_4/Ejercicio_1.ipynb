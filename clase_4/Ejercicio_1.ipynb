{
 "cells": [
  {
   "cell_type": "markdown",
   "id": "0",
   "metadata": {
    "id": "intro"
   },
   "source": [
    "# Introducción a Problemas de Clasificación en R\n",
    "\n",
    "En este notebook, exploraremos problemas de clasificación utilizando R. Crearemos un conjunto de datos sintético con dos predictores y una variable categórica a predecir. Visualizaremos los datos con `ggplot2`, explicaremos la función sigmoide, la función de pérdida y su gradiente. Finalmente, implementaremos modelos de clasificación utilizando **regresión logística**, **KNN** y **árboles de decisión** con la biblioteca **caret**."
   ]
  },
  {
   "cell_type": "markdown",
   "id": "1",
   "metadata": {
    "id": "contenido"
   },
   "source": [
    "## Contenido\n",
    "\n",
    "1. [Generación del Dataset](#1)\n",
    "2. [Visualización de los Datos](#2)\n",
    "3. [Función Sigmoide](#3)\n",
    "4. [Función de Pérdida y Gradiente](#4)\n",
    "5. [Modelos de Clasificación con caret](#5)\n",
    "    - 5.1 [Regresión Logística](#5.1)\n",
    "    - 5.2 [K-Nearest Neighbors (KNN)](#5.2)\n",
    "    - 5.3 [Árboles de Decisión (rpart)](#5.3)"
   ]
  },
  {
   "cell_type": "markdown",
   "id": "2",
   "metadata": {
    "id": "1"
   },
   "source": [
    "<a name=\"1\"></a>\n",
    "## 1. Generación del Dataset\n",
    "\n",
    "Crearemos un conjunto de datos sintético con dos variables predictoras (`x1` y `x2`) y una variable de clase binaria (`clase`)."
   ]
  },
  {
   "cell_type": "code",
   "execution_count": null,
   "id": "3",
   "metadata": {
    "colab": {
     "base_uri": "https://localhost:8080/",
     "height": 286
    },
    "id": "codigo1",
    "outputId": "38a1bbaa-c8a3-4b30-e6f8-f4e2c26d5f64",
    "vscode": {
     "languageId": "r"
    }
   },
   "outputs": [],
   "source": [
    "library(modules)\n",
    "library(tidyverse)\n",
    "library(lubridate)\n",
    "library(caret)\n",
    "library(ggplot2)\n",
    "library(dplyr)\n",
    "\n",
    "datos <- read.csv(\"../sources/circles.csv\")\n",
    "\n",
    "datos <- data.frame(datos[3:nrow(datos), ])\n",
    "\n",
    "datos$clase <- as.factor(datos$Class)\n",
    "datos$Class <- NULL\n",
    "datos$x <- as.double(datos$x)\n",
    "datos$y <- as.double(datos$y)\n",
    "datos$x_square <- datos$x^2\n",
    "datos$y_square <- datos$y^2\n",
    "x_mean <- mean(datos$x)\n",
    "y_mean <- mean(datos$y)\n",
    "datos$radius <- sqrt(datos$x_square + datos$y_square)\n",
    "datos$distance_to_mean <- sqrt((datos$x - x_mean)^2 + (datos$y - y_mean)^2)\n",
    "datos$product <- datos$x * datos$y\n",
    "\n",
    "\n",
    "head(datos)\n",
    "\n",
    "summary(datos)\n"
   ]
  },
  {
   "cell_type": "markdown",
   "id": "4",
   "metadata": {
    "id": "2"
   },
   "source": [
    "<a name=\"2\"></a>\n",
    "## 2. Visualización de los Datos\n",
    "\n",
    "Utilizaremos `ggplot2` para visualizar los datos y entender la distribución de las clases."
   ]
  },
  {
   "cell_type": "code",
   "execution_count": null,
   "id": "5",
   "metadata": {
    "colab": {
     "base_uri": "https://localhost:8080/",
     "height": 472
    },
    "id": "codigo2",
    "outputId": "4c6faf0e-e225-42e5-cdee-fff077fbbc15",
    "vscode": {
     "languageId": "r"
    }
   },
   "outputs": [],
   "source": [
    "# Crear el gráfico\n",
    "ggplot(datos, aes(x = x, y = y, color = clase)) +\n",
    "  geom_point() +\n",
    "  labs(title = \"Distribución de las Clases\", x = \"x\", y = \"y\") +\n",
    "  theme_minimal()\n"
   ]
  },
  {
   "cell_type": "markdown",
   "id": "6",
   "metadata": {
    "id": "3"
   },
   "source": [
    "<a name=\"3\"></a>\n",
    "## 3. Función Sigmoide\n",
    "\n",
    "La función sigmoide es utilizada en regresión logística para transformar valores reales en probabilidades entre 0 y 1.\n",
    "\n",
    "La función sigmoide se define como:\n",
    "\n",
    "$$\n",
    "S(z) = \\frac{1}{1 + e^{-z}}\n",
    "$$\n",
    "\n",
    "Donde $z$ es una combinación lineal de las variables de entrada.Para nuestro caso, una función lineal: $z=\\beta_{0} + \\beta_{1}x_{1} + ... + \\beta_{n}x_{n}$"
   ]
  },
  {
   "cell_type": "code",
   "execution_count": null,
   "id": "7",
   "metadata": {
    "colab": {
     "base_uri": "https://localhost:8080/",
     "height": 437
    },
    "id": "codigo3",
    "outputId": "6a0c1033-67d0-4a0e-f0d0-68b8731c3c00",
    "vscode": {
     "languageId": "r"
    }
   },
   "outputs": [],
   "source": [
    "# Definir la función sigmoide\n",
    "sigmoide <- function(z) {\n",
    "  1 / (1 + exp(-z))\n",
    "}\n",
    "\n",
    "# Crear una secuencia de valores\n",
    "z <- seq(-10, 10, length.out = 100)\n",
    "\n",
    "# Calcular S(z)\n",
    "S_z <- sigmoide(z)\n",
    "\n",
    "# Graficar la función sigmoide\n",
    "plot(z, S_z,\n",
    "  type = \"l\", col = \"blue\", lwd = 2,\n",
    "  main = \"Función Sigmoide\",\n",
    "  xlab = \"z\", ylab = \"S(z)\"\n",
    ")\n"
   ]
  },
  {
   "cell_type": "markdown",
   "id": "8",
   "metadata": {
    "id": "4"
   },
   "source": [
    "<a name=\"4\"></a>\n",
    "## 4. Función de Pérdida y Gradiente\n",
    "\n",
    "En la regresión logística, utilizamos la **función de pérdida logística** para medir el error entre las predicciones y las etiquetas reales.\n",
    "\n",
    "La función de pérdida para una observación es:\n",
    "\n",
    "$$\n",
    "L(y, \\hat{y}) = -[y \\log(\\hat{y}) + (1 - y) \\log(1 - \\hat{y})]\n",
    "$$\n",
    "\n",
    "Donde:\n",
    "- $y$ es la etiqueta real (0 o 1).\n",
    "- $\\hat{y}$ es la probabilidad predicha.\n",
    "\n",
    "El **gradiente** de la función de pérdida con respecto a los pesos es utilizado para actualizar los pesos durante el entrenamiento:\n",
    "\n",
    "$\\nabla L = (\\hat{y} - y)x$"
   ]
  },
  {
   "cell_type": "code",
   "execution_count": null,
   "id": "9",
   "metadata": {
    "colab": {
     "base_uri": "https://localhost:8080/",
     "height": 857
    },
    "id": "IgSyzh7LaRw5",
    "outputId": "dc371546-1d46-4889-d4f4-794292c364c6",
    "vscode": {
     "languageId": "r"
    }
   },
   "outputs": [],
   "source": [
    "# Función de pérdida logística\n",
    "perdida_logistica <- function(y, y_hat) {\n",
    "  -(y * log(y_hat) + (1 - y) * log(1 - y_hat))\n",
    "}\n",
    "\n",
    "# Función para calcular el gradiente\n",
    "gradiente <- function(y, y_hat, x) {\n",
    "  (y_hat - y) * x\n",
    "}\n",
    "\n",
    "# Ejemplos de valores\\,\n",
    "# Supongamos y = 1 y y_hat variando entre 0.01 y 0.99\\n\",\n",
    "y <- 1\n",
    "y_hat_vals <- seq(0.01, 0.99, by = 0.01)\n",
    "loss_vals <- perdida_logistica(y, y_hat_vals)\n",
    "\n",
    "# Graficar la pérdida en función de y_hat\\n\",\n",
    "plot(y_hat_vals, loss_vals,\n",
    "  type = \"l\", col = \"red\", lwd = 2,\n",
    "  main = \"Pérdida Logística vs y_hat (y = 1)\",\n",
    "  xlab = \"y_hat\", ylab = \"Pérdida\"\n",
    ")\n",
    "\n",
    "# Calcular el gradiente para un valor de x\n",
    "x <- c(1, 2) # Vector de características de ejemplo\n",
    "gradientes <- sapply(y_hat_vals, function(yh) gradiente(y, yh, x))\n",
    "\n",
    "# Graficar el gradiente de la primera característica\\n\",\n",
    "plot(y_hat_vals, gradientes[1, ],\n",
    "  type = \"l\", col = \"blue\", lwd = 2,\n",
    "  main = \"Gradiente vs y_hat (Componente x1)\",\n",
    "  xlab = \"y_hat\", ylab = \"Gradiente\"\n",
    ")\n"
   ]
  },
  {
   "cell_type": "markdown",
   "id": "10",
   "metadata": {
    "id": "5"
   },
   "source": [
    "<a name=\"5\"></a>\n",
    "## 5. Modelos de Clasificación con caret\n",
    "\n",
    "Utilizaremos la biblioteca **caret** para entrenar modelos de clasificación y evaluar su rendimiento.\n",
    "\n",
    "### Preparación de los Datos\n",
    "\n",
    "Dividiremos los datos en conjuntos de entrenamiento y prueba."
   ]
  },
  {
   "cell_type": "code",
   "execution_count": null,
   "id": "11",
   "metadata": {
    "colab": {
     "base_uri": "https://localhost:8080/",
     "height": 211
    },
    "id": "codigo4",
    "outputId": "f5656ffb-5430-43d4-aa2c-890cf96c90db",
    "vscode": {
     "languageId": "r"
    }
   },
   "outputs": [],
   "source": [
    "# Dividir los datos en entrenamiento y prueba\n",
    "set.seed(123)\n",
    "indice_train <- createDataPartition(datos$clase, p = 0.7, list = FALSE)\n",
    "datos_train <- datos[indice_train, ]\n",
    "datos_test <- datos[-indice_train, ]\n",
    "# Verificar el tamaño de los conjuntos\n",
    "dim(datos_train)\n",
    "dim(datos_test)\n"
   ]
  },
  {
   "cell_type": "markdown",
   "id": "12",
   "metadata": {
    "id": "5.1"
   },
   "source": [
    "<a name=\"5.1\"></a>\n",
    "### 5.1 Regresión Logística\n",
    "\n",
    "Entrenaremos un modelo de regresión logística utilizando **caret**."
   ]
  },
  {
   "cell_type": "code",
   "execution_count": null,
   "id": "13",
   "metadata": {
    "colab": {
     "base_uri": "https://localhost:8080/",
     "height": 347
    },
    "id": "codigo5",
    "outputId": "8ec543de-37a6-4dc3-c6b0-7b8d7889d63e",
    "vscode": {
     "languageId": "r"
    }
   },
   "outputs": [],
   "source": [
    "control <- trainControl(method = \"none\")\n",
    "\n",
    "modelo_logistico_original <- train(clase ~ x + y,\n",
    "    data = datos_train,\n",
    "    method = \"glm\",\n",
    "    family = \"binomial\",\n",
    "    trControl = control\n",
    ")\n",
    "\n",
    "summary(modelo_logistico_original)\n",
    "\n",
    "modelo_logistico_completo <- train(clase ~ .,\n",
    "    data = datos_train,\n",
    "    method = \"glm\",\n",
    "    family = \"binomial\",\n",
    "    trControl = control\n",
    ")\n",
    "\n",
    "summary(modelo_logistico_completo)\n"
   ]
  },
  {
   "cell_type": "markdown",
   "id": "14",
   "metadata": {
    "id": "codigo6"
   },
   "source": [
    "#### Evaluación del Modelo"
   ]
  },
  {
   "cell_type": "code",
   "execution_count": null,
   "id": "15",
   "metadata": {
    "colab": {
     "base_uri": "https://localhost:8080/",
     "height": 486
    },
    "id": "codigo7",
    "outputId": "a2630627-98f4-41b5-818c-25ce2dabacd1",
    "vscode": {
     "languageId": "r"
    }
   },
   "outputs": [],
   "source": [
    "pred_logistico_original <- predict(modelo_logistico_original, newdata = datos_test)\n",
    "confusionMatrix(pred_logistico_original, datos_test$clase)\n",
    "\n",
    "\n",
    "pred_logistico_completo <- predict(modelo_logistico_completo, newdata = datos_test)\n",
    "confusionMatrix(pred_logistico_completo, datos_test$clase)\n"
   ]
  },
  {
   "cell_type": "code",
   "execution_count": null,
   "id": "16",
   "metadata": {
    "vscode": {
     "languageId": "r"
    }
   },
   "outputs": [],
   "source": [
    "# Crear el gráfico\n",
    "datos_test$prediccion_original <- pred_logistico_original\n",
    "datos_test$prediccion_completo <- pred_logistico_completo\n",
    "\n",
    "ggplot(datos_test, aes(x = x, y = y, color = clase, shape = pred_logistico_original)) +\n",
    "  geom_point() +\n",
    "  labs(title = \"Distribución de las Clases\", x = \"x\", y = \"y\") +\n",
    "  theme_minimal()\n",
    "\n",
    "  ggplot(datos_test, aes(x = x, y = y, color = clase, shape = pred_logistico_completo)) +\n",
    "  geom_point() +\n",
    "  labs(title = \"Distribución de las Clases\", x = \"x\", y = \"y\") +\n",
    "  theme_minimal()\n"
   ]
  },
  {
   "cell_type": "code",
   "execution_count": null,
   "id": "17",
   "metadata": {
    "colab": {
     "base_uri": "https://localhost:8080/"
    },
    "id": "XQQ6COk0djUF",
    "outputId": "6b6f2628-7b5d-4898-aac7-c494ea3b7342",
    "vscode": {
     "languageId": "r"
    }
   },
   "outputs": [],
   "source": [
    "precision_original <- posPredValue(pred_logistico_original, datos_test$clase, positive = \"C1\")\n",
    "recall_original <- sensitivity(pred_logistico_original, datos_test$clase, positive = \"C1\")\n",
    "\n",
    "F1_original <- (2 * precision_original * recall_original) / (precision_original + recall_original)\n",
    "\n",
    "print(precision_original)\n",
    "print(recall_original)\n",
    "print(F1_original)\n",
    "\n",
    "precision_completo <- posPredValue(pred_logistico_completo, datos_test$clase, positive = \"C1\")\n",
    "recall_completo <- sensitivity(pred_logistico_completo, datos_test$clase, positive = \"C1\")\n",
    "\n",
    "F1_completo <- (2 * precision_completo * recall_completo) / (precision_completo + recall_completo)\n",
    "\n",
    "print(precision_completo)\n",
    "print(recall_completo)\n",
    "print(F1_completo)\n"
   ]
  },
  {
   "cell_type": "markdown",
   "id": "18",
   "metadata": {
    "id": "5.2"
   },
   "source": [
    "<a name=\"5.2\"></a>\n",
    "### 5.2 K-Nearest Neighbors (KNN)\n",
    "\n",
    "Entrenaremos un modelo KNN utilizando **caret**."
   ]
  },
  {
   "cell_type": "code",
   "execution_count": null,
   "id": "19",
   "metadata": {
    "colab": {
     "base_uri": "https://localhost:8080/"
    },
    "id": "codigo8",
    "outputId": "a19b13d0-3c6a-4bd2-ba77-a8ceb3040c49",
    "vscode": {
     "languageId": "r"
    }
   },
   "outputs": [],
   "source": [
    "# Definir una cuadrícula de hiperparámetros\n",
    "grid_knn <- expand.grid(k = 5)\n",
    "\n",
    "# Entrenar el modelo\n",
    "modelo_knn_original <- train(clase ~ x + y,\n",
    "    data = datos_train,\n",
    "    method = \"knn\",\n",
    "    trControl = control,\n",
    "    tuneGrid = grid_knn\n",
    ")\n",
    "\n",
    "summary(modelo_knn_original)\n",
    "\n",
    "modelo_knn_completo <- train(clase ~ .,\n",
    "    data = datos_train,\n",
    "    method = \"knn\",\n",
    "    trControl = control,\n",
    "    tuneGrid = grid_knn\n",
    ")\n",
    "\n",
    "summary(modelo_knn_completo)\n"
   ]
  },
  {
   "cell_type": "markdown",
   "id": "20",
   "metadata": {
    "id": "codigo9"
   },
   "source": [
    "#### Evaluación del Modelo"
   ]
  },
  {
   "cell_type": "code",
   "execution_count": null,
   "id": "21",
   "metadata": {
    "colab": {
     "base_uri": "https://localhost:8080/",
     "height": 486
    },
    "id": "codigo10",
    "outputId": "bd2cb5e6-fa79-4daa-a8d8-ba52e25d22d3",
    "vscode": {
     "languageId": "r"
    }
   },
   "outputs": [],
   "source": [
    "pred_knn_original <- predict(modelo_knn_original, newdata = datos_test)\n",
    "confusionMatrix(pred_knn_original, datos_test$clase)\n",
    "\n",
    "pred_knn_completo <- predict(modelo_knn_completo, newdata = datos_test)\n",
    "confusionMatrix(pred_knn_completo, datos_test$clase)\n"
   ]
  },
  {
   "cell_type": "code",
   "execution_count": null,
   "id": "22",
   "metadata": {
    "colab": {
     "base_uri": "https://localhost:8080/"
    },
    "id": "NxDH0WvEeOHA",
    "outputId": "f774a1e7-3c82-4a62-ddd4-d6cc9f731205",
    "vscode": {
     "languageId": "r"
    }
   },
   "outputs": [],
   "source": [
    "precision_original <- posPredValue(pred_knn_original, datos_test$clase, positive = \"C1\")\n",
    "recall_original <- sensitivity(pred_knn_original, datos_test$clase, positive = \"C1\")\n",
    "\n",
    "F1_original <- (2 * precision_original * recall_original) / (precision_original + recall_original)\n",
    "\n",
    "print(precision_original)\n",
    "print(recall_original)\n",
    "print(F1_original)\n",
    "\n",
    "precision_completo <- posPredValue(pred_knn_completo, datos_test$clase, positive = \"C1\")\n",
    "recall_completo <- sensitivity(pred_knn_completo, datos_test$clase, positive = \"C1\")\n",
    "\n",
    "F1_completo <- (2 * precision_completo * recall_completo) / (precision_completo + recall_completo)\n",
    "\n",
    "print(precision_completo)\n",
    "print(recall_completo)\n",
    "print(F1_completo)\n"
   ]
  },
  {
   "cell_type": "markdown",
   "id": "23",
   "metadata": {
    "id": "5.3"
   },
   "source": [
    "<a name=\"5.3\"></a>\n",
    "### 5.3 Árboles de Decisión (rpart)\n",
    "\n",
    "Entrenaremos un árbol de decisión utilizando **caret**."
   ]
  },
  {
   "cell_type": "code",
   "execution_count": null,
   "id": "24",
   "metadata": {
    "colab": {
     "base_uri": "https://localhost:8080/"
    },
    "id": "codigo11",
    "outputId": "19bfe7b5-4d9c-47ac-8784-27c51aacf05c",
    "vscode": {
     "languageId": "r"
    }
   },
   "outputs": [],
   "source": [
    "modelo_arbol_original <- train(clase ~ x + y,\n",
    "    data = datos_train,\n",
    "    method = \"rpart\"\n",
    ")\n",
    "\n",
    "modelo_arbol_completo <- train(clase ~ .,\n",
    "    data = datos_train,\n",
    "    method = \"rpart\"\n",
    ")\n"
   ]
  },
  {
   "cell_type": "markdown",
   "id": "25",
   "metadata": {
    "id": "codigo12"
   },
   "source": [
    "#### Evaluación del Modelo"
   ]
  },
  {
   "cell_type": "code",
   "execution_count": null,
   "id": "26",
   "metadata": {
    "colab": {
     "base_uri": "https://localhost:8080/",
     "height": 486
    },
    "id": "codigo13",
    "outputId": "85c3e0ba-66d5-46f4-fd16-5b83de77ab31",
    "vscode": {
     "languageId": "r"
    }
   },
   "outputs": [],
   "source": [
    "pred_arbol_original <- predict(modelo_arbol_original, newdata = datos_test)\n",
    "confusionMatrix(pred_arbol_original, datos_test$clase)\n",
    "\n",
    "pred_arbol_completo <- predict(modelo_arbol_completo, newdata = datos_test)\n",
    "confusionMatrix(pred_arbol_completo, datos_test$clase)\n"
   ]
  },
  {
   "cell_type": "code",
   "execution_count": null,
   "id": "27",
   "metadata": {
    "colab": {
     "base_uri": "https://localhost:8080/"
    },
    "id": "j4eifQTWeT60",
    "outputId": "904f7f9a-eb77-4d3a-cc33-2d7076356542",
    "vscode": {
     "languageId": "r"
    }
   },
   "outputs": [],
   "source": [
    "precision_original <- posPredValue(pred_arbol_original, datos_test$clase, positive = \"C1\")\n",
    "recall_original <- sensitivity(pred_arbol_original, datos_test$clase, positive = \"C1\")\n",
    "\n",
    "F1_original <- (2 * precision_original * recall_original) / (precision_original + recall_original)\n",
    "\n",
    "print(precision_original)\n",
    "print(recall_original)\n",
    "print(F1_original)\n",
    "\n",
    "precision_completo <- posPredValue(pred_arbol_completo, datos_test$clase, positive = \"C1\")\n",
    "recall_completo <- sensitivity(pred_arbol_completo, datos_test$clase, positive = \"C1\")\n",
    "\n",
    "F1_completo <- (2 * precision_completo * recall_completo) / (precision_completo + recall_completo)\n",
    "\n",
    "print(precision_completo)\n",
    "print(recall_completo)\n",
    "print(F1_completo)\n"
   ]
  },
  {
   "cell_type": "code",
   "execution_count": null,
   "id": "28",
   "metadata": {
    "vscode": {
     "languageId": "r"
    }
   },
   "outputs": [],
   "source": [
    "# Crear el gráfico\n",
    "datos_test$prediccion_original <- pred_logistico_original\n",
    "datos_test$prediccion_completo <- pred_logistico_completo\n",
    "\n",
    "ggplot(datos_test, aes(x = x, y = y, color = clase, shape = pred_logistico_original)) +\n",
    "  geom_point() +\n",
    "  labs(title = \"Distribución de las Clases\", x = \"x\", y = \"y\") +\n",
    "  theme_minimal()\n",
    "\n",
    "  ggplot(datos_test, aes(x = x, y = y, color = clase, shape = pred_logistico_completo)) +\n",
    "  geom_point() +\n",
    "  labs(title = \"Distribución de las Clases\", x = \"x\", y = \"y\") +\n",
    "  theme_minimal()\n"
   ]
  }
 ],
 "metadata": {
  "colab": {
   "provenance": []
  },
  "kernelspec": {
   "display_name": "R",
   "language": "R",
   "name": "ir"
  },
  "language_info": {
   "codemirror_mode": "r",
   "file_extension": ".r",
   "mimetype": "text/x-r-source",
   "name": "R",
   "pygments_lexer": "r",
   "version": "4.4.0"
  }
 },
 "nbformat": 4,
 "nbformat_minor": 5
}
