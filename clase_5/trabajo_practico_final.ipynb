{
 "cells": [
  {
   "cell_type": "markdown",
   "metadata": {},
   "source": [
    "# Análisis de datos en Cancelaciones"
   ]
  },
  {
   "cell_type": "markdown",
   "metadata": {},
   "source": [
    "## Consigna\n",
    "\n",
    "El dataset \"cancelaciones\" preparado para predecir cancelaciones en reservas de cuartos de hotel. La variable target es \"booking_status\", donde el valor 1 indica que la reserva fue cancelada. Si elegís este dataset, se solicita lo siguiente:\n",
    "\n",
    "<ol>\n",
    "  <li>Analizar el dataset para detectar posibles correlaciones, outliers, datos inválidos, columnas no necesarias, etc. Se pueden usar funciones descriptivas, gráficos, etc.</li>\n",
    "  <li>Preprocesar el dataset y generar conjuntos de entrenamiento y testeo.</li>\n",
    "  <li>Ajustar tres modelos (regresión, árbol y KNN) para predecir la variable target. Evaluar cada modelo e indicar cual seleccionarían y por qué.</li>\n",
    "  <li>Determinar cuales son los predictores mas importantes de cara a estimar el valor de la variable target.</li>\n",
    "  <li>Seleccionar un predictor y generar tantos modelos como valores admite dicho predictor (el tipo de predictor, regresión, árbol o KNN, lo deben seleccionar ustedes, puede ser cualquiera). Guardar cada modelo en una lista o diccionario, de manera tal de poder acceder a cada modelo por el valor asociado del predictor seleccionado. </li>\n",
    "  <li>Crear una función que tome como parámetros la lista o diccionario anterior y un dataframe predictores. La función debe devolver un vector o dataframe con los resultados de las predicciones. Para ello, internamente, la función debe seleccionar el modelo correcto de la lista o diccionario para realizar la predicción.</li>\n",
    "</ol>"
   ]
  },
  {
   "cell_type": "markdown",
   "metadata": {},
   "source": [
    "## Librerias"
   ]
  },
  {
   "cell_type": "code",
   "execution_count": null,
   "metadata": {
    "vscode": {
     "languageId": "r"
    }
   },
   "outputs": [],
   "source": [
    "library(dplyr)\n",
    "library(tidyverse)\n",
    "library(ggplot2)\n",
    "library(caret)\n",
    "library(glue)\n"
   ]
  },
  {
   "cell_type": "markdown",
   "metadata": {},
   "source": [
    "## Funciones"
   ]
  },
  {
   "cell_type": "code",
   "execution_count": null,
   "metadata": {
    "vscode": {
     "languageId": "r"
    }
   },
   "outputs": [],
   "source": [
    "library(dplyr)\n",
    "\n",
    "# Detecta si el tipo de variable es continuo\n",
    "is.continuous <- function(x) {\n",
    "    return(is.double(x))\n",
    "}\n",
    "\n",
    "# Detecta si el tipo de variable es discreto\n",
    "is.discrete <- function(x) {\n",
    "    return(is.factor(x) || is.integer(x))\n",
    "}\n",
    "\n",
    "# Detecta si el tipo de variable admite una comparación de correlación\n",
    "is.correlation.applicable <- function(x) {\n",
    "    return(is.numeric(x) || is.logical(x))\n",
    "}\n",
    "\n",
    "# Detecta si el tipo de variable admite normalización\n",
    "is.normalization.applicable <- function(x) {\n",
    "    return(is.numeric(x))\n",
    "}\n",
    "\n",
    "# Devuelve todos los outliers apartados a mas de 3 desvíos del promedio\n",
    "find_outliers <- function(datos_columna) {\n",
    "    promedio <- mean(datos_columna)\n",
    "    desvio <- sd(datos_columna)\n",
    "    limite_bajo <- promedio - 3 * desvio\n",
    "    limite_alto <- promedio + 3 * desvio\n",
    "    return(which(!dplyr::between(datos_columna, limite_bajo, limite_alto)))\n",
    "}\n",
    "\n",
    "# Normaliza la columna y la devuelve como parámetro\n",
    "normalize_column <- function(datos_columna) {\n",
    "    promedio <- mean(datos_columna)\n",
    "    desvio <- sd(datos_columna)\n",
    "    return(as.double(lapply(\n",
    "        datos_columna,\n",
    "        function(x) {\n",
    "            return((x - promedio) / desvio)\n",
    "        }\n",
    "    )))\n",
    "}\n",
    "\n",
    "# Realiza una predicción a partir de una modelo entrenado y evalúa partir de datos de prueba\n",
    "# Imprime la predicción y los parametros de salida\n",
    "evaluate_model <- function(nombre_modelo, modelo_entrenado, datos_test) {\n",
    "    prediccion <- predict(modelo_entrenado, newdata = datos_test)\n",
    "    precision <- caret::posPredValue(prediccion, datos_test$booking_status, positive = 1)\n",
    "    recall <- caret::sensitivity(prediccion, datos_test$booking_status, positive = 1)\n",
    "    F1 <- (2 * precision * recall) / (precision + recall)\n",
    "\n",
    "    resultado <- list(\n",
    "        \"prediccion\" = prediccion,\n",
    "        \"result\" = list(\n",
    "            \"precision\" = precision,\n",
    "            \"recall\" = recall,\n",
    "            \"F1\" = F1\n",
    "        )\n",
    "    )\n",
    "\n",
    "    print(nombre_modelo)\n",
    "    print(caret::confusionMatrix(prediccion, datos_test$booking_status))\n",
    "    print(resultado$result)\n",
    "}\n",
    "\n",
    "# Realiza una predicción a partir de un modelo entrenado\n",
    "# y agrega la predicción como columna al dataframe enviado por parámetro\n",
    "predict_dataframe <- function(trained_models, datos_test, min_room_type_reserved, max_room_type_reserved) {\n",
    "    datos_particiones_test <- datos_test[FALSE, ]\n",
    "    for (room_type in min_room_type_reserved:max_room_type_reserved) {\n",
    "        index <- room_type + 1\n",
    "        datos_particion_test <- datos_test %>% filter(datos_test$room_type_reserved == room_type)\n",
    "        prediccion <- predict(trained_models[index], newdata = datos_particion_test)\n",
    "        datos_particion_test$prediccion <- prediccion[[1]]\n",
    "        datos_particiones_test <- datos_particiones_test %>% rbind(datos_particion_test)\n",
    "    }\n",
    "\n",
    "    return(\n",
    "        datos_particiones_test[order(as.numeric(row.names(datos_particiones_test))), ]\n",
    "    )\n",
    "}\n"
   ]
  },
  {
   "cell_type": "markdown",
   "metadata": {},
   "source": [
    "## Lectura de datos\n",
    "\n",
    "Se leen los datos desde un csv y ser convierten las columnas para mejorar su tipificación y manejo."
   ]
  },
  {
   "cell_type": "code",
   "execution_count": null,
   "metadata": {
    "vscode": {
     "languageId": "r"
    }
   },
   "outputs": [],
   "source": [
    "datos <- read.csv(\"../sources/cancelaciones.csv\")\n",
    "\n",
    "# Se leen los limites del campo \"room_type_reserved\" que en pasos\n",
    "# posteriores serán usados para generar los modelos individuales\n",
    "max_room_type_reserved <- max(datos$room_type_reserved)\n",
    "min_room_type_reserved <- min(datos$room_type_reserved)\n",
    "\n",
    "datos <- datos %>% mutate(\n",
    "    booking_status = as.factor(booking_status),\n",
    "    type_of_meal_plan = as.factor(type_of_meal_plan),\n",
    "    required_car_parking_space = as.logical(required_car_parking_space),\n",
    "    room_type_reserved = as.factor(room_type_reserved),\n",
    "    market_segment_type = as.factor(market_segment_type),\n",
    "    repeated_guest = as.logical(repeated_guest),\n",
    "    arrival_full_date = as.Date(str_glue(\"{arrival_year}-{arrival_month}-{arrival_date}\")),\n",
    "    arrival_year = NULL,\n",
    "    arrival_month = NULL,\n",
    "    arrival_date = NULL\n",
    ")\n"
   ]
  },
  {
   "cell_type": "markdown",
   "metadata": {},
   "source": [
    "## Outliers\n",
    "\n",
    "Detección y filtrado de outliers. Adicionalmente, se chequea el formato de la fecha que en algunas filas esta incompleta.\n",
    "\n",
    "El criterio de detección de outliers es de 3 desvíos de distancia como máximo. \n",
    "\n",
    "Teniendo en cuenta la cantidad de datos recolectados, todas las filas que estén fuera de este criterio en alguna de las columnas, son desestimadas del análisis."
   ]
  },
  {
   "cell_type": "code",
   "execution_count": null,
   "metadata": {
    "vscode": {
     "languageId": "r"
    }
   },
   "outputs": [],
   "source": [
    "datos <- datos %>% filter(!row_number() %in% find_outliers(datos$lead_time))\n",
    "datos <- datos %>% filter(!row_number() %in% find_outliers(datos$avg_price_per_room))\n",
    "datos <- datos %>% filter(!row_number() %in% find_outliers(datos$no_of_previous_bookings_not_canceled))\n",
    "datos <- datos %>% filter(!row_number() %in% find_outliers(datos$no_of_previous_cancellations))\n",
    "datos <- datos %>% filter(!row_number() %in% find_outliers(datos$no_of_adults))\n",
    "datos <- datos %>% filter(!row_number() %in% find_outliers(datos$no_of_children))\n",
    "datos <- datos %>% filter(!row_number() %in% find_outliers(datos$no_of_weekend_nights))\n",
    "datos <- datos %>% filter(!row_number() %in% find_outliers(datos$no_of_week_nights))\n",
    "datos <- datos %>% filter(!row_number() %in% find_outliers(datos$no_of_special_requests))\n",
    "datos <- datos %>% filter(!is.na(arrival_full_date))\n"
   ]
  },
  {
   "cell_type": "markdown",
   "metadata": {},
   "source": [
    "## Gráficos\n",
    "\n",
    "Plotea gráficos para las variables discretas y continuas por separado. Para las primeras hace gráficos de barra y para las segundas, de puntos.\n",
    "\n",
    "Algunos gráficos no son relevantes, pero son generados como parte del conjunto."
   ]
  },
  {
   "cell_type": "code",
   "execution_count": null,
   "metadata": {
    "vscode": {
     "languageId": "r"
    }
   },
   "outputs": [],
   "source": [
    "variables_discretas <- datos %>% dplyr::select(where(is.discrete))\n",
    "variables_discretas_colnames <- colnames(variables_discretas)\n",
    "variables_continuas <- datos %>% dplyr::select(where(is.continuous))\n",
    "variables_continuas_colnames <- colnames(variables_continuas)\n",
    "\n",
    "for (index in seq_along(variables_discretas_colnames)) {\n",
    "    print(ggplot(datos, aes(variables_discretas[, index])) +\n",
    "        geom_bar() +\n",
    "        xlab(variables_discretas_colnames[index])) \n",
    "    print(ggplot(datos, aes(variables_discretas[, index])) +\n",
    "        geom_boxplot(\n",
    "            outlier.colour = \"black\", outlier.shape = 16,\n",
    "            outlier.size = 2, notch = FALSE\n",
    "        ) +\n",
    "        xlab(variables_discretas_colnames[index]))\n",
    "}\n",
    "\n",
    "for (index in seq_along(variables_continuas_colnames)) {\n",
    "    print(ggplot(datos, aes(x = variables_continuas[, index], y = booking_status)) +\n",
    "        geom_point() +\n",
    "        xlab(variables_continuas_colnames[index])) \n",
    "    print(ggplot(datos, aes(variables_continuas[, index])) +\n",
    "        geom_boxplot(\n",
    "            outlier.colour = \"black\", outlier.shape = 16,\n",
    "            outlier.size = 2, notch = FALSE\n",
    "        ) +\n",
    "        xlab(variables_continuas_colnames[index]))\n",
    "}\n"
   ]
  },
  {
   "cell_type": "markdown",
   "metadata": {},
   "source": [
    "## Análisis de Correlación\n",
    "\n",
    "El análisis de correlación indica que no hay variables notoriamente dependientes.\n",
    "\n",
    "Como parte del proceso, se habían agregado variables como suma de otras variables (por ejemplo: n° personas = n° niños + n° adultos), se retiraron porque generaban una gran correlación entre ellas por poder derivarse linealmente de otras columnas. "
   ]
  },
  {
   "cell_type": "code",
   "execution_count": null,
   "metadata": {
    "vscode": {
     "languageId": "r"
    }
   },
   "outputs": [],
   "source": [
    "analisis_correlacion <- cor(datos %>% dplyr::select(where(is.correlation.applicable)))\n",
    "print(analisis_correlacion)\n"
   ]
  },
  {
   "cell_type": "markdown",
   "metadata": {},
   "source": [
    "## Descomposición de columnas\n",
    "\n",
    "Se descomponen las columnas de tipo factor de cardinalidad \"n\" en \"n\" columnas de tipo lógico para poder ser utilizadas en los modelos de predicción posteriores.\n",
    "\n",
    "Una vez descompuestas las columnas, son eliminadas del dataset.\n",
    "\n",
    "Particularmente type_of_meal_plan y market_segment_type no son descompuestos porque se encontró en etapas posteriores que producen un modelo errático, por lo que directamente son ignoradas."
   ]
  },
  {
   "cell_type": "code",
   "execution_count": null,
   "metadata": {
    "vscode": {
     "languageId": "r"
    }
   },
   "outputs": [],
   "source": [
    "datos <- datos %>% mutate(\n",
    "    arrival_day_of_the_week = as.factor(wday(arrival_full_date)),\n",
    "    arrival_day_of_the_week_1 = as.logical(arrival_day_of_the_week == 1),\n",
    "    arrival_day_of_the_week_2 = as.logical(arrival_day_of_the_week == 2),\n",
    "    arrival_day_of_the_week_3 = as.logical(arrival_day_of_the_week == 3),\n",
    "    arrival_day_of_the_week_4 = as.logical(arrival_day_of_the_week == 4),\n",
    "    arrival_day_of_the_week_5 = as.logical(arrival_day_of_the_week == 5),\n",
    "    arrival_day_of_the_week_6 = as.logical(arrival_day_of_the_week == 6),\n",
    "    arrival_day_of_the_week_7 = as.logical(arrival_day_of_the_week == 7),\n",
    "    room_type_reserved_0 = as.logical(room_type_reserved == 0),\n",
    "    room_type_reserved_1 = as.logical(room_type_reserved == 1),\n",
    "    room_type_reserved_2 = as.logical(room_type_reserved == 2),\n",
    "    room_type_reserved_3 = as.logical(room_type_reserved == 3),\n",
    "    room_type_reserved_4 = as.logical(room_type_reserved == 4),\n",
    "    room_type_reserved_5 = as.logical(room_type_reserved == 5),\n",
    "    room_type_reserved_6 = as.logical(room_type_reserved == 6),\n",
    "    lead_time = normalize_column(lead_time),\n",
    "    avg_price_per_room = normalize_column(avg_price_per_room),\n",
    "    no_of_special_requests = normalize_column(no_of_special_requests),\n",
    "    no_of_adults = normalize_column(no_of_adults),\n",
    "    no_of_children = normalize_column(no_of_children),\n",
    "    no_of_weekend_nights = normalize_column(no_of_weekend_nights),\n",
    "    no_of_week_nights = normalize_column(no_of_week_nights),\n",
    "    no_of_previous_cancellations = NULL,\n",
    "    no_of_previous_bookings_not_canceled = NULL,\n",
    "    arrival_day_of_the_week = NULL,\n",
    "    type_of_meal_plan = NULL,\n",
    "    market_segment_type = NULL,\n",
    "    arrival_full_date = NULL\n",
    ")\n",
    "\n",
    "datos_todos <- datos %>% mutate(\n",
    "    room_type_reserved = NULL\n",
    ")\n"
   ]
  },
  {
   "cell_type": "markdown",
   "metadata": {},
   "source": [
    "## Evaluación de modelos\n",
    "\n",
    "Los modelos de regresión lineal, KNN y árbol son entrenados y evaluados.\n",
    "\n",
    "Los datos de entrenamiento y de prueba se crean aleatorimente sin un criterio específico.\n",
    "\n",
    "La evaluación del modelo es impresa en la consola.\n",
    "\n",
    "El criterio de desición es exclusivamente el paramétro F1 da una idea del rendimiento promedio del modelo en casos positivos y negativos acertados.\n",
    "\n",
    "Se determina que el modelo que mejor se ajusta es KNN, por tener un valor de F1 0.69, el mayor entre los 3 modelos evaluados."
   ]
  },
  {
   "cell_type": "code",
   "execution_count": null,
   "metadata": {
    "vscode": {
     "languageId": "r"
    }
   },
   "outputs": [],
   "source": [
    "set.seed(0)\n",
    "indices_train <- sample(seq_len(nrow(datos_todos)), 0.8 * nrow(datos_todos))\n",
    "datos_todos_train <- datos_todos[indices_train, ]\n",
    "datos_todos_test <- datos_todos[-indices_train, ]\n",
    "\n",
    "train_model_lm <- train(\n",
    "    booking_status ~ .,\n",
    "    data = datos_todos_train,\n",
    "    method = \"glm\",\n",
    "    family = \"binomial\",\n",
    "    trControl = trainControl(method = \"none\")\n",
    ")\n",
    "\n",
    "evaluate_model(\"Regresion Lineal\", train_model_lm, datos_todos_test)\n",
    "\n",
    "train_model_knn <- train(\n",
    "    booking_status ~ .,\n",
    "    data = datos_todos_train,\n",
    "    method = \"knn\",\n",
    "    trControl = trainControl(method = \"none\"),\n",
    "    tuneGrid = expand.grid(k = 5)\n",
    ")\n",
    "\n",
    "evaluate_model(\"KNN\", train_model_knn, datos_todos_test)\n",
    "\n",
    "train_model_tree <- train(\n",
    "    booking_status ~ .,\n",
    "    data = datos_todos_train,\n",
    "    method = \"rpart\"\n",
    ")\n",
    "\n",
    "evaluate_model(\"Árbol\", train_model_tree, datos_todos_test)\n"
   ]
  },
  {
   "cell_type": "markdown",
   "metadata": {},
   "source": [
    "## Evaluación de predictores\n",
    "\n",
    "Reutilizando el modelo lineal creado en el paso anterior, se analiza la influencia de cada uno de los predictores. \n",
    "\n",
    "Si bien no ha sido el método seleccionado como predictor, la regresión lineal nos sirve igualmente para medir el grado de influencia de los predictores.\n",
    "\n",
    "Siendo que los predictores están normalizados, el estimador de cada uno nos da una idea de cuanto influye cada predictor en particular.\n",
    "\n",
    "Las columnas más significativas son \"arrival_day_of_the_week\", \"no_of_week_nights\" y \"repeated_guest\". \n",
    "\n",
    "El resultado de las columnas de \"room_type_reserved\" no es representativo porque tiene el mismo valor para todas las opciones.\n",
    "\n",
    "Por otra parte, \"arrival_day_of_the_week\" muestra que hay días de la semana que son más críticos que otros en cuanto a la influencia positiva o negativa que puede llegar a haber en la cancelación de un cliente.\n",
    "\n",
    "Puntualmente \"arrival_day_of_the_week_7\" no se evalúa porque el modelo no puede separarlo del resto de los días debido a que es una dependencia lineal de los otros 6 días."
   ]
  },
  {
   "cell_type": "code",
   "execution_count": null,
   "metadata": {
    "vscode": {
     "languageId": "r"
    }
   },
   "outputs": [],
   "source": [
    "summary(train_model_lm)\n"
   ]
  },
  {
   "cell_type": "markdown",
   "metadata": {},
   "source": [
    "## Modelos particionados\n",
    "\n",
    "Genera un modelo distintos para cada valor posible dentro de \"room_type_reserved\". \n",
    "\n",
    "Permite ver el comportamiento de los datos separados en subconjuntos.\n",
    "\n",
    "Se realiza e imprime una evaluación de cada uno de los subconjuntos de datos.\n",
    "\n",
    "Los datos de entrenamiento y de prueba se crean aleatorimente sin un criterio específico para cada uno de los subconjuntos.\n",
    "\n",
    "Los subconjuntos correspondientes a \"room_type_reserved\" == 5 y \"room_type_reserved\" == 6 tienen un tamaño insuficiente y no representativo, por lo que los modelos no pueden ser calculados y la salida producida no es representativa en absoluto.\n",
    "\n",
    "Finalmente, se guardan todas las filas de prueba en un dataframe junto con la salida de la predicción para cada columna. Al algoritmo predice cada fila con el subconjunto de datos coincidente con su \"room_type_reserved\".\n",
    "\n",
    "Para el caso puntual, se observa que la división según \"room_type_reserved\" provoca mejoras en el parámetro F1 para \"room_type_reserved\" == 0 por un 0.08, que es el caso más significativo por tener la mayor cantidad de reservas. En caso de continuar el análisis, sugeriría seguir esta línea de división del modelo según \"room_type_reserved\"."
   ]
  },
  {
   "cell_type": "code",
   "execution_count": null,
   "metadata": {
    "vscode": {
     "languageId": "r"
    }
   },
   "outputs": [],
   "source": [
    "datos$prediccion <- FALSE\n",
    "datos_particiones_test <- datos[FALSE, ]\n",
    "\n",
    "modelos_particiones <- c()\n",
    "\n",
    "for (index in min_room_type_reserved:max_room_type_reserved) {\n",
    "    datos_particion <- datos %>% filter(datos$room_type_reserved == index)\n",
    "\n",
    "    indices_particion_train <- sample(seq_len(nrow(datos_particion)), 0.8 * nrow(datos_particion))\n",
    "    datos_particion_train <- datos_particion[indices_particion_train, ]\n",
    "    datos_particion_test <- datos_particion[-indices_particion_train, ]\n",
    "\n",
    "    train_model_particion <- train(\n",
    "        booking_status ~ .,\n",
    "        data = datos_todos_train,\n",
    "        method = \"knn\",\n",
    "        trControl = trainControl(method = \"none\"),\n",
    "        tuneGrid = expand.grid(k = 5)\n",
    "    )\n",
    "\n",
    "    evaluate_model(\n",
    "        glue(\"Particion: room_type_reserved == {index}\"),\n",
    "        train_model_particion,\n",
    "        datos_particion_test\n",
    "    )\n",
    "\n",
    "    modelos_particiones <- c(modelos_particiones, list(train_model_particion))\n",
    "    datos_particiones_test <- datos_particiones_test %>% rbind(datos_particion_test)\n",
    "}\n",
    "\n",
    "resultados <- predict_dataframe(\n",
    "    modelos_particiones,\n",
    "    datos_particiones_test,\n",
    "    min_room_type_reserved,\n",
    "    max_room_type_reserved\n",
    ")\n",
    "\n",
    "head(resultados)\n"
   ]
  },
  {
   "cell_type": "markdown",
   "metadata": {},
   "source": [
    "## Conclusiones\n",
    "\n",
    "Se implementaron distintas técnicas de preprocesamiento para manejar outliers, normalizar los datos y optimizar las variables, buscando un modelo más preciso. \n",
    "La evaluación comparativa entre los modelos de regresión, árbol de decisión y KNN nos permitió identificar el modelo más efectivo en términos de precisión y F1-score, resultando en un predictor robusto de la cancelación de reservas.\n",
    "\n",
    "Se determinó que el modelo KNN (K-Nearest Neighbors) fue el mejor en términos de precisión general para predecir cancelaciones. Este algoritmo clasifica cada instancia en función de la clase predominante entre sus \"vecinos\" más cercanos. En este caso, el modelo KNN encontró patrones relevantes entre las características de los clientes y las reservas.\n",
    "\n",
    "Durante el análisis, se observó que la división del conjunto de datos según el tipo de habitación reservada mejoró el rendimiento del modelo. Para las reservas más comunes, la métrica F1 se incrementó en 0.08."
   ]
  }
 ],
 "metadata": {
  "kernelspec": {
   "display_name": "R",
   "language": "R",
   "name": "ir"
  },
  "language_info": {
   "codemirror_mode": "r",
   "file_extension": ".r",
   "mimetype": "text/x-r-source",
   "name": "R",
   "pygments_lexer": "r",
   "version": "4.4.0"
  }
 },
 "nbformat": 4,
 "nbformat_minor": 2
}
