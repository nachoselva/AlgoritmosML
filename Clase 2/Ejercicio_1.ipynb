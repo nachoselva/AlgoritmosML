{
 "cells": [
  {
   "cell_type": "code",
   "execution_count": null,
   "metadata": {
    "id": "pVkdX0PtCvqw"
   },
   "outputs": [],
   "source": [
    "# @title Packages install {\"vertical-output\":true,\"display-mode\":\"form\"}\n",
    "\n",
    "install.packages(\"caret\")\n",
    "install.packages(\"lubridate\")\n",
    "install.packages(\"tidyverse\")\n",
    "\n",
    "library(tidyverse)\n",
    "library(lubridate)\n",
    "library(caret)"
   ]
  },
  {
   "cell_type": "code",
   "execution_count": null,
   "metadata": {
    "id": "WoN--OVNHOHz"
   },
   "outputs": [],
   "source": [
    "# @title Dataset Reading {\"vertical-output\":true,\"display-mode\":\"form\"}\n",
    "\n",
    "data <- read.csv(\"train.csv\")\n",
    "head(data)\n",
    "summary(data)"
   ]
  },
  {
   "cell_type": "code",
   "execution_count": null,
   "metadata": {
    "id": "M1FU2di1t-xI"
   },
   "outputs": [],
   "source": [
    "# @title Dataset Filter By Product and Store {\"vertical-output\":true,\"display-mode\":\"form\"}\n",
    "\n",
    "data <- data %>% filter(store == 2 & product == 3)\n",
    "head(data)\n",
    "summary(data)"
   ]
  },
  {
   "cell_type": "code",
   "execution_count": null,
   "metadata": {
    "id": "QXCOjjr7FfNu"
   },
   "outputs": [],
   "source": [
    "# @title Split Date field {\"vertical-output\":true,\"display-mode\":\"form\"}\n",
    "\n",
    "data$Date <- as.Date(data$Date, format = \"%Y-%m-%d\")\n",
    "\n",
    "data <- data %>%\n",
    "  mutate(\n",
    "    Year = year(Date),\n",
    "    Month = as.integer(month(Date)),\n",
    "    DayOfWeek = as.integer(wday(Date, label = TRUE)),\n",
    "    DayOfMonth = as.integer(day(Date))\n",
    "  )\n",
    "\n",
    "head(data)"
   ]
  },
  {
   "cell_type": "code",
   "execution_count": null,
   "metadata": {
    "id": "lBI52-mwHhpz"
   },
   "outputs": [],
   "source": [
    "# @title Date One-Hot encoding {\"vertical-output\":true,\"display-mode\":\"form\"}\n",
    "\n",
    "#dummies <- dummyVars(~ Month + DayOfWeek + DayOfMonth, data = data)\n",
    "#data_transformed <- predict(dummies, newdata = data)\n",
    "#data <- cbind(data, data_transformed)\n",
    "#head(data)"
   ]
  },
  {
   "cell_type": "code",
   "execution_count": null,
   "metadata": {
    "id": "XfDMVi4TIw2u"
   },
   "outputs": [],
   "source": [
    "# @title Add Lag columns {\"vertical-output\":true,\"display-mode\":\"form\"}\n",
    "\n",
    "#data <- data %>%\n",
    "#  mutate(\n",
    "#    Lag1 = lag(number_sold, 1),\n",
    "#    Lag2 = lag(number_sold, 2)\n",
    "#  )\n",
    "#head(data)"
   ]
  },
  {
   "cell_type": "code",
   "execution_count": null,
   "metadata": {
    "id": "JhgrgRW6MMOR"
   },
   "outputs": [],
   "source": [
    "# @title Lags scaling {\"vertical-output\":true,\"display-mode\":\"form\"}\n",
    "\n",
    "#min_val = min(data$number_sold)\n",
    "#max_val = max(data$number_sold)\n",
    "#data$Lag1 <- sapply(data$Lag1, function(x) (x - min_val) / (max_val - min_val))\n",
    "#data$Lag2 <- sapply(data$Lag2, function(x) (x - min_val) / (max_val - min_val))\n",
    "#\n",
    "#head(data)"
   ]
  },
  {
   "cell_type": "code",
   "execution_count": null,
   "metadata": {
    "id": "_iAf219BrDU_"
   },
   "outputs": [],
   "source": [
    "# @title Time Chart {\"vertical-output\":true,\"display-mode\":\"form\"}\n",
    "\n",
    "chart_data <- data %>% filter(DayOfMonth == 1)\n",
    "\n",
    "ggplot() +\n",
    "  geom_line(data=chart_data, aes(x = 1:nrow(chart_data), y = number_sold), color = \"blue\") +\n",
    "  labs(title = \"Ventas mensuales por tienda y producto desde 2010 hasta 2018\", x = \"Semana\", y = \"Ventas\") +\n",
    "  theme_minimal()\n",
    "\n",
    "chart_data_2010 <- data %>% filter(DayOfMonth %% 7 == 0 & Year == 2010)\n",
    "\n",
    "ggplot() +\n",
    "  geom_line(data=chart_data_2010, aes(x = 1:nrow(chart_data_2010), y = number_sold), color = \"blue\") +\n",
    "  labs(title = \"Ventas semanales por tienda y producto en 2010\", x = \"Semana\", y = \"Ventas\") +\n",
    "  theme_minimal()\n",
    "\n",
    "chart_data_2013 <- data %>% filter(DayOfMonth %% 7 == 0 & Year == 2013)\n",
    "\n",
    "ggplot() +\n",
    "  geom_line(data=chart_data_2013, aes(x = 1:nrow(chart_data_2013), y = number_sold), color = \"blue\") +\n",
    "  labs(title = \"Ventas semanales por tienda y producto en 2013\", x = \"Semana\", y = \"Ventas\") +\n",
    "  theme_minimal()\n",
    "\n",
    "chart_data_2016 <- data %>% filter(DayOfMonth %% 7 == 0 & Year == 2016)\n",
    "\n",
    "ggplot() +\n",
    "  geom_line(data=chart_data_2016, aes(x = 1:nrow(chart_data_2016), y = number_sold), color = \"blue\") +\n",
    "  labs(title = \"Ventas semanales por tienda y producto en 2016\", x = \"Semana\", y = \"Ventas\") +\n",
    "  theme_minimal()\n",
    "\n",
    "chart_data_2018 <- data %>% filter(DayOfMonth %% 7 == 0 & Year == 2018)\n",
    "\n",
    "ggplot() +\n",
    "  geom_line(data=chart_data_2018, aes(x = 1:nrow(chart_data_2018), y = number_sold), color = \"blue\") +\n",
    "  labs(title = \"Ventas semanales por tienda y producto en 2018\", x = \"Semana\", y = \"Ventas\") +\n",
    "  theme_minimal()"
   ]
  },
  {
   "cell_type": "code",
   "execution_count": null,
   "metadata": {
    "id": "wIOVaQJbvg6r"
   },
   "outputs": [],
   "source": [
    "# @title Linear Regression {\"vertical-output\":true,\"display-mode\":\"form\"}\n",
    "\n",
    "lin_reg <- train(number_sold~Date, data=data, method=\"lm\",metric=\"RMSE\")\n",
    "print(summary(lin_reg))\n",
    "\n",
    "chart_data <- data %>% filter(DayOfMonth == 1)\n",
    "\n",
    "ggplot() +\n",
    "  geom_line(data=chart_data, aes(x = 1:nrow(chart_data), y = number_sold), color = \"blue\") +\n",
    "  geom_line(data=chart_data, aes(x = 1:nrow(chart_data), y = predict(lin_reg, chart_data)),color = \"red\")+\n",
    "  labs(title = \"Regresión Lineal\", x = \"X\", y = \"y\") +\n",
    "  theme_minimal()"
   ]
  },
  {
   "cell_type": "code",
   "execution_count": null,
   "metadata": {
    "id": "DIGed6CDB501"
   },
   "outputs": [],
   "source": [
    "# @title K-Nearest Neighbors {\"vertical-output\":true,\"display-mode\":\"form\"}\n",
    "\n",
    "knn_reg <- train(number_sold~Date, data=data, method=\"knn\",metric=\"RMSE\")\n",
    "print(summary(knn_reg))\n",
    "\n",
    "chart_data <- data %>% filter(DayOfMonth == 1)\n",
    "\n",
    "ggplot() +\n",
    "  geom_line(data=chart_data, aes(x = 1:nrow(chart_data), y = number_sold), color = \"blue\") +\n",
    "  geom_line(data=chart_data, aes(x = 1:nrow(chart_data), y = predict(knn_reg, chart_data)),color = \"red\")+\n",
    "  labs(title = \"KNN\", x = \"X\", y = \"y\") +\n",
    "  theme_minimal()"
   ]
  },
  {
   "cell_type": "code",
   "execution_count": null,
   "metadata": {
    "id": "xFGoe89VD4hZ"
   },
   "outputs": [],
   "source": [
    "# @title Tree {\"vertical-output\":true,\"display-mode\":\"form\"}\n",
    "\n",
    "tree_reg <- train(number_sold~Date, data=data, method=\"rpart\",metric=\"RMSE\")\n",
    "\n",
    "chart_data <- data %>% filter(DayOfMonth == 1)\n",
    "\n",
    "ggplot() +\n",
    "  geom_line(data=chart_data, aes(x = 1:nrow(chart_data), y = number_sold), color = \"blue\") +\n",
    "  geom_line(data=chart_data, aes(x = 1:nrow(chart_data), y = predict(tree_reg, chart_data)),color = \"red\")+\n",
    "  labs(title = \"Tree\", x = \"X\", y = \"y\") +\n",
    "  theme_minimal()"
   ]
  },
  {
   "cell_type": "markdown",
   "metadata": {
    "id": "T_WNbQTxz_9R"
   },
   "source": [
    "**Conclusiones**\n",
    "\n",
    "Ninguno de los 3 algortimos manejan correctamente una serie de tiempo.\n",
    "Las series de tiempo tienen un comportamiento bastante particular, tienen una serie de patrones propios que deben descomponerse y analizarse por separado.\n",
    "Las series de tiempo tienen un espacio propio dentro de la ciencia de datos, no es una simple aplicación sino que es, por sí misma, un área de estudio.\n",
    "Las series de tiempo tienen comportamientos que siguen patrones fuertemente cíclicos que no son manejados correctamente por modelos que no están específicamente preparado para esto:\n",
    "* Regresión lineal: solamente es capaz de detectar la tendencia general y no fluctuaciones repetitivas. Asume la función dependendiente será infinitamente grande o pequeña en el tiempo, por las propias características de una función lineal.\n",
    "* KNN: dentro del rango de tiempo evaluado, genera resultados muy ajustados a la muestra. Fuera del mismo, no tiene ningún tipo de capacidad, las mismas K muestras genrarán un valor fijo hasta el tiempo infinito. Genera un comportamiento escalonado que no responde a la conducta de una variable en series de tiempo, cada escalón es un promedio de K muestra cercanas.\n",
    "* Árbol: similar al algorimo KNN, genera una serie de escalones en donde se asume que los X vecinos van a tener el mismo valor. Asume que los X cercanos tienen exactamente el mismo comportamiento.\n",
    "\n",
    "Los 3 modelos presentados no son aptos para manejar series de tiempo pero tampoco son defectuosos, simplemente tienen otro tipo de aplicaciones.\n",
    "\n",
    "\n",
    "\n",
    "\n"
   ]
  }
 ],
 "metadata": {
  "colab": {
   "private_outputs": true,
   "provenance": []
  },
  "kernelspec": {
   "display_name": "R",
   "name": "ir"
  },
  "language_info": {
   "name": "R"
  }
 },
 "nbformat": 4,
 "nbformat_minor": 0
}
